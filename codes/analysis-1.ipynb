{
 "cells": [
  {
   "cell_type": "markdown",
   "id": "5c29263e",
   "metadata": {},
   "source": [
    "Import the libraries to do data analysis using some numbers, and then creasing some visualisations"
   ]
  },
  {
   "cell_type": "code",
   "execution_count": 1,
   "id": "0925de55",
   "metadata": {},
   "outputs": [],
   "source": [
    "import numpy as np\n",
    "import pandas as pd\n",
    "import seaborn as sns"
   ]
  },
  {
   "cell_type": "markdown",
   "id": "add9b86b",
   "metadata": {},
   "source": [
    "Load my raw dataset from the raw data folder"
   ]
  },
  {
   "cell_type": "code",
   "execution_count": null,
   "id": "12a3d427",
   "metadata": {},
   "outputs": [],
   "source": [
    "df = "
   ]
  }
 ],
 "metadata": {
  "kernelspec": {
   "display_name": "base",
   "language": "python",
   "name": "python3"
  },
  "language_info": {
   "codemirror_mode": {
    "name": "ipython",
    "version": 3
   },
   "file_extension": ".py",
   "mimetype": "text/x-python",
   "name": "python",
   "nbconvert_exporter": "python",
   "pygments_lexer": "ipython3",
   "version": "3.13.5"
  }
 },
 "nbformat": 4,
 "nbformat_minor": 5
}
